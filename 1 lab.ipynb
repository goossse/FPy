{
 "cells": [
  {
   "cell_type": "markdown",
   "metadata": {},
   "source": [
    "<h1><span style=\"background-color: #ccffcc;\"><span style=\"color: #ff99cc;\">Н</span><span style=\"color: #ff9900;\">ор</span><span style=\"color: #ffcc00;\">в</span><span style=\"color: #339966;\">ег<span style=\"color: #99ccff;\">и</span></span><span style=\"color: #cc99ff;\">я</span></span></h1>\n",
    "<h3><strong>Площадь:</strong>&nbsp; &nbsp; &nbsp; &nbsp; &nbsp; &nbsp; &nbsp; &nbsp; &nbsp; &nbsp; 385 207 км&sup2;</h3>\n",
    "<h3><strong>Население:</strong>&nbsp; &nbsp; &nbsp; &nbsp; &nbsp; &nbsp; &nbsp; &nbsp; &nbsp;5 367 580 чел.</h3>\n",
    "<h3><strong>Форма правления:</strong>&nbsp; &nbsp; &nbsp;конституционная монархия</h3>\n",
    "<h3>Известные личности:&nbsp;<span style=\"text-decoration: underline;\"><a href=\"https://vikent.ru/enc/4341/\">ссылка</a></span></h3>\n",
    "<h3>Герб:&nbsp; &nbsp; &nbsp; &nbsp; &nbsp; &nbsp; &nbsp; &nbsp;</h3>\n",
    "<table style=\"height: 177px; width: 322px;\">\n",
    "<tbody>\n",
    "<tr style=\"height: 28px;\">\n",
    "<td style=\"width: 356px; height: 28px; text-align: center;\"><strong>Старый</strong></td>\n",
    "<td style=\"width: 169px; height: 28px; text-align: center;\"><strong>Новый</strong></td>\n",
    "</tr>\n",
    "<tr style=\"height: 65.375px;\">\n",
    "<td style=\"width: 356px; height: 65.375px;\"><img src=\"https://blazon.ru/wp-content/uploads/2020/06/529.jpg\" alt=\"Государстевнный герб Норвегии: значение символики и история\" width=\"128\" height=\"220\" /></td>\n",
    "<td style=\"width: 169px; height: 65.375px;\"><img src=\"https://upload.wikimedia.org/wikipedia/commons/thumb/7/79/Greater_royal_coat_of_arms_of_Norway.svg/1200px-Greater_royal_coat_of_arms_of_Norway.svg.png\" alt=\"Герб Норвегии &mdash; Википедия\" width=\"169\" height=\"172\" /></td>\n",
    "</tr>\n",
    "</tbody>\n",
    "</table>\n",
    "<h3>Президент:&nbsp;<em>Б<strong>лэз Компаоре</strong></em><strong>&nbsp;</strong></h3>\n",
    "<p><img src=\"https://img0.liveinternet.ru/images/attach/c/4/83/852/83852868_00.jpg\" alt=\"\" width=\"240\" height=\"320\" /></p>\n",
    "<h3>Достопримечательности:</h3>\n",
    "<ul>\n",
    "<li>Крепость Акерсхус</li>\n",
    "<li>Королевский дворец Осло</li>\n",
    "<li>Брюгген</li>\n",
    "<li>Трольхауген</li>\n",
    "<li>Парки\n",
    "<ul>\n",
    "<li>Вигеланд-парк</li>\n",
    "<li>Ютунхеймен</li>\n",
    "</ul>\n",
    "</li>\n",
    "</ul>"
   ]
  },
  {
   "cell_type": "markdown",
   "metadata": {},
   "source": [
    "<g xmlns=\"http://www.w3.org/2000/svg\"><g><g><use xmlns:xlink=\"http://www.w3.org/1999/xlink\" xlink:href=\"#a7e442DbDD\" opacity=\"1\" fill=\"#ff7d7d\" fill-opacity=\"1\"/></g><g><use xmlns:xlink=\"http://www.w3.org/1999/xlink\" xlink:href=\"#a3oOryRZx1\" opacity=\"1\" fill=\"#ffffff\" fill-opacity=\"1\"/></g><g><use xmlns:xlink=\"http://www.w3.org/1999/xlink\" xlink:href=\"#a58bgsLniA\" opacity=\"1\" fill=\"#ffffff\" fill-opacity=\"1\"/></g><g><use xmlns:xlink=\"http://www.w3.org/1999/xlink\" xlink:href=\"#a230Kxc8E8\" opacity=\"1\" fill=\"#787bff\" fill-opacity=\"1\"/></g><g><use xmlns:xlink=\"http://www.w3.org/1999/xlink\" xlink:href=\"#f3krxTJkwm\" opacity=\"1\" fill=\"#787bff\" fill-opacity=\"1\"/></g></g></g>"
   ]
  },
  {
   "cell_type": "code",
   "execution_count": 2,
   "metadata": {},
   "outputs": [
    {
     "name": "stdout",
     "output_type": "stream",
     "text": [
      "іііііі\n",
      "Wrong Input.\n"
     ]
    }
   ],
   "source": [
    "import math\n",
    "\n",
    "def Checking(n):\n",
    "\ti = 1\n",
    "\twhile (pow(i,2)<n):\n",
    "\t\tost = n - pow(i, 2)\n",
    "\t\tif (math.sqrt(ost)%1 ==0):\n",
    "\t\t\treturn ('{} = {}² + {}² '.format(n, i, int(math.sqrt(ost))))\n",
    "\t\ti+=1\n",
    "\telse:\n",
    "\t\treturn \"n is not working.\"\n",
    "\n",
    "n = input()\n",
    "if n.isdigit():\n",
    "\tprint(Checking(int(n)))\n",
    "else:\n",
    "\tprint(\"Wrong Input.\")"
   ]
  }
 ],
 "metadata": {
  "kernelspec": {
   "display_name": "Python 3",
   "language": "python",
   "name": "python3"
  },
  "language_info": {
   "codemirror_mode": {
    "name": "ipython",
    "version": 3
   },
   "file_extension": ".py",
   "mimetype": "text/x-python",
   "name": "python",
   "nbconvert_exporter": "python",
   "pygments_lexer": "ipython3",
   "version": "3.8.3"
  }
 },
 "nbformat": 4,
 "nbformat_minor": 4
}
