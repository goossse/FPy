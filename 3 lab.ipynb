{
 "cells": [
  {
   "cell_type": "code",
   "execution_count": 104,
   "metadata": {},
   "outputs": [
    {
     "ename": "SyntaxError",
     "evalue": "invalid syntax (<ipython-input-104-d0e0b3fdaefb>, line 40)",
     "output_type": "error",
     "traceback": [
      "\u001b[1;36m  File \u001b[1;32m\"<ipython-input-104-d0e0b3fdaefb>\"\u001b[1;36m, line \u001b[1;32m40\u001b[0m\n\u001b[1;33m    np.allclose(res.x,answer)\u001b[0m\n\u001b[1;37m    ^\u001b[0m\n\u001b[1;31mSyntaxError\u001b[0m\u001b[1;31m:\u001b[0m invalid syntax\n"
     ]
    }
   ],
   "source": [
    "from scipy.optimize import linprog\n",
    "from pulp import *\n",
    "import time\n",
    "import numpy as np\n",
    "print(\"Scipy\")\n",
    "start = time.time()\n",
    "c =[-10,-14]\n",
    "A =[[2,4],[1,8],[7,4]]\n",
    "b =[120,280,240]\n",
    "x0_bounds = (0,None)\n",
    "x1_bounds = (0,None)\n",
    "res = linprog(c,A_ub =A, b_ub=b, bounds=[x0_bounds, x1_bounds])\n",
    "print(res)\n",
    "stop = time.time()\n",
    "print(\"Time :\")\n",
    "print(stop - start)\n",
    "print(\"\\nPulp\")\n",
    "start1 = time.time()\n",
    "x1 = pulp.LpVariable(\"x1\", lowBound =0)\n",
    "x2 = pulp.LpVariable(\"x2\", lowBound =0)\n",
    "problem = pulp.LpProblem('0',LpMaximize)\n",
    "problem += 10*x1+ 14*x2, \"Objective function\"\n",
    "problem += 2*x1 +4*x2 <= 120,\"1-st constrain\"\n",
    "problem += x1 + 8*x2 <= 280, \"2-d constrain \"\n",
    "problem +=7*x1 +4*x2 <= 240, \"3-d constrain\"\n",
    "problem.solve()\n",
    "print(\"Result: \")\n",
    "answer = []\n",
    "for variable in problem.variables():\n",
    "    print(variable.name, \"=\", variable.varValue)\n",
    "    answer.append(variable.varValue)\n",
    "#print(answer)\n",
    "print(\"Income: \")\n",
    "print(value(problem.objective))\n",
    "stop1 = time.time()\n",
    "print(\"Time :\")\n",
    "print(stop1 - start1)\n",
    "print(\"Time difference\")\n",
    "print((stop - start)-(stop1 - start1))\n",
    "np.allclose(res.x,answer)"
   ]
  },
  {
   "cell_type": "code",
   "execution_count": 26,
   "metadata": {},
   "outputs": [
    {
     "name": "stdout",
     "output_type": "stream",
     "text": [
      "     con: array([1.61148236e-07, 1.23230947e-07, 1.23230734e-07, 1.04272431e-07,\n",
      "       8.72096919e-08])\n",
      "     fun: 1344.999998131529\n",
      " message: 'Optimization terminated successfully.'\n",
      "     nit: 6\n",
      "   slack: array([1.63301749e-07, 8.50000000e+01, 1.50000001e+01, 8.00000000e+01,\n",
      "       2.10000000e+02])\n",
      "  status: 0\n",
      " success: True\n",
      "       x: array([3.99999999e+01, 4.49999999e+01, 1.37997399e-08, 7.99941290e-09,\n",
      "       5.88770693e-09, 2.50000000e+01, 5.94356994e-08, 6.46873834e-09,\n",
      "       4.99999999e+01, 6.12001768e-09, 5.01127242e-09, 7.95347429e-09,\n",
      "       9.36888680e-09, 8.99914967e-09, 8.70455916e-09, 1.44127559e-08,\n",
      "       8.93093365e-09, 1.10432285e-09, 6.99999998e+01, 5.99999999e+01])\n"
     ]
    }
   ],
   "source": [
    "import numpy as np\n",
    "from scipy.optimize import linprog\n",
    "import time\n",
    "start = time.time()\n",
    "b_ub = [85,110,65,80,340] \n",
    "b_eq = [90,70,70,60,50]  \n",
    "A = np.array([[11, 3, 7, 10],\n",
    "              [9, 4, 5, 11],\n",
    "              [3, 7, 15, 10],\n",
    "              [6, 5, 8, 6],\n",
    "              [8, 6, 4, 4]])\n",
    "m, n = A.shape\n",
    "c = list(np.reshape(A, n * m))# Преобразование матрицы A в список c.\n",
    "A_ub = np.zeros([m, m * n])\n",
    "for i in np.arange(0, m, 1):# Заполнение матрицы условий –неравенств.\n",
    "    for j in np.arange(0, n * m, 1):\n",
    "        if i * n <= j <=n + i * n - 1:\n",
    "            A_ub  [i, j]=1\n",
    "A_eq = np.zeros([m, m * n])\n",
    "for i in np.arange(0, m, 1):# Заполнение матрицы условий –равенств.\n",
    "    k = 0\n",
    "    for j in np.arange(0,n*m,1):\n",
    "        if j == k * n + i:\n",
    "            A_eq [i, j]=1\n",
    "            k += 1\n",
    "print(linprog(c, A_ub, b_ub, A_eq, b_eq))\n"
   ]
  },
  {
   "cell_type": "code",
   "execution_count": 105,
   "metadata": {},
   "outputs": [
    {
     "data": {
      "image/png": "[encoded data removed]",
      "text/plain": [
       "<Figure size 432x288 with 1 Axes>"
      ]
     },
     "metadata": {
      "needs_background": "light"
     },
     "output_type": "display_data"
    }
   ],
   "source": [
    "import numpy as np\n",
    "import matplotlib.pyplot as plt\n",
    "from scipy.optimize import linprog\n",
    "from pulp import *\n",
    "import time\n",
    "\n",
    "c = [-10, -14]\n",
    "A = [[2, 4], [1, 8], [7, 4]]\n",
    "b = [120, 280, 240]\n",
    "\n",
    "x0_bounds = (0, None)\n",
    "x1_bounds = (0, None)\n",
    "startTime = time.time()\n",
    "res = linprog(c, A_ub=A, b_ub=b, bounds=[x0_bounds, x1_bounds])\n",
    "stopTime = time.time()\n",
    "\n",
    "def f(b, a1, a2, x):\n",
    "    y = np.array([])\n",
    "    for xIter in x:\n",
    "        yIter = (b-a1*xIter)/a2\n",
    "        y = np.append(y, yIter)\n",
    "    return y\n",
    "\n",
    "x = np.arange(0, 50, 0.2)\n",
    "for i in range(len(A)):\n",
    "    y = f(b=b[i], a1=A[i][0], x=x, a2=A[i][1])\n",
    "    plt.plot(x, y)\n",
    "    plt.fill_between(x, y, alpha=0.2)\n",
    "    plt.text(0.5, f(b=b[i], a1=A[i][0], x=[i+1,], a2=A[i][1])-2*i+1, \n",
    "             '{a1}*x1+ {a2}*x2 <= {b}'.format(a1=A[i][0], a2=A[i][1], b=b[i]), \n",
    "             rotation=-7%360)\n",
    "plt.plot(x, (c[0]*c[1]-np.abs(c[0])*x)/np.abs(c[1]), '--')\n",
    "plt.plot(res.x[0], res.x[1], 'ro')\n",
    "plt.annotate('Level curve', \n",
    "             xy=(2, (c[0]*c[1]-np.abs(c[0])*2)/np.abs(c[1])), \n",
    "             xytext=(3, (c[0]*c[1]-np.abs(c[0])*3)/np.abs(c[1])+5), \n",
    "             size='x-large', arrowprops=dict(facecolor='orange', arrowstyle='fancy'))\n",
    "plt.xlabel('x1')\n",
    "plt.ylabel('x2')\n",
    "plt.show()"
   ]
  }
 ],
 "metadata": {
  "kernelspec": {
   "display_name": "Python 3",
   "language": "python",
   "name": "python3"
  },
  "language_info": {
   "codemirror_mode": {
    "name": "ipython",
    "version": 3
   },
   "file_extension": ".py",
   "mimetype": "text/x-python",
   "name": "python",
   "nbconvert_exporter": "python",
   "pygments_lexer": "ipython3",
   "version": "3.8.3"
  }
 },
 "nbformat": 4,
 "nbformat_minor": 4
}
