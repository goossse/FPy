{
 "cells": [
  {
   "cell_type": "code",
   "execution_count": 17,
   "metadata": {},
   "outputs": [
    {
     "name": "stdout",
     "output_type": "stream",
     "text": [
      "5\n",
      "[[0 1 0 1 0]\n",
      " [1 0 1 0 1]\n",
      " [0 1 0 1 0]\n",
      " [1 0 1 0 1]\n",
      " [0 1 0 1 0]]\n"
     ]
    }
   ],
   "source": [
    "# 2\n",
    "import numpy as np\n",
    "n = int(input())\n",
    "arr = np.zeros((n,n), dtype=int)\n",
    "arr[1::2,::2] = 1\n",
    "arr[::2,1::2] = 1\n",
    "print(arr)"
   ]
  },
  {
   "cell_type": "code",
   "execution_count": 108,
   "metadata": {},
   "outputs": [
    {
     "name": "stdout",
     "output_type": "stream",
     "text": [
      "6 7 2 3\n",
      "[[0 0 0 0 0 0 0]\n",
      " [0 1 1 0 1 1 0]\n",
      " [0 0 0 0 0 0 0]\n",
      " [0 1 1 0 1 1 0]\n",
      " [0 0 0 0 0 0 0]\n",
      " [0 1 1 0 1 1 0]]\n"
     ]
    }
   ],
   "source": [
    "# 3\n",
    "import numpy as np\n",
    "n, m, r, c = (int(i) for i in input().split())\n",
    "arr = np.ones((n,m), dtype=int)\n",
    "arr[::r] = 0\n",
    "arr[:,::c] = 0\n",
    "print(arr)"
   ]
  },
  {
   "cell_type": "code",
   "execution_count": 18,
   "metadata": {
    "scrolled": true
   },
   "outputs": [
    {
     "name": "stdout",
     "output_type": "stream",
     "text": [
      "3 4\n",
      "[[0 1 2 3]\n",
      " [0 0 0 0]\n",
      " [0 0 0 0]]\n"
     ]
    }
   ],
   "source": [
    "# 4\n",
    "import numpy as np\n",
    "n, m = (int(i) for i in input().split())\n",
    "arr = np.zeros((n,m), dtype=int)\n",
    "arr[0]=np.arange(m)\n",
    "print(arr)"
   ]
  },
  {
   "cell_type": "code",
   "execution_count": 111,
   "metadata": {
    "scrolled": true
   },
   "outputs": [
    {
     "name": "stdout",
     "output_type": "stream",
     "text": [
      "5\n",
      "[[1 1 1 1 1]\n",
      " [0 0 0 0 0]\n",
      " [1 1 1 1 1]\n",
      " [0 0 0 0 0]\n",
      " [1 1 1 1 1]]\n"
     ]
    }
   ],
   "source": [
    "# 5\n",
    "import numpy as np\n",
    "n=int(input())\n",
    "arr = np.ones((n,n), dtype=int)\n",
    "arr[1::2]=0\n",
    "print(arr)"
   ]
  },
  {
   "cell_type": "code",
   "execution_count": 115,
   "metadata": {},
   "outputs": [
    {
     "name": "stdout",
     "output_type": "stream",
     "text": [
      "3 4 0 6 5 0 3 0 4\n",
      "[ 3  4 -1  6  5 -1  3 -1  4]\n"
     ]
    }
   ],
   "source": [
    "# 7\n",
    "import numpy as np\n",
    "arr = input().split()\n",
    "arr = np.array(arr, dtype = int)\n",
    "arr = np.where(arr==0,-1,arr)\n",
    "print(arr)"
   ]
  },
  {
   "cell_type": "code",
   "execution_count": 114,
   "metadata": {},
   "outputs": [
    {
     "name": "stdout",
     "output_type": "stream",
     "text": [
      "3 4 0 6 5 0 3 0 4\n",
      "6\n",
      "3\n"
     ]
    }
   ],
   "source": [
    "# 8\n",
    "import numpy as np\n",
    "arr = input().split()\n",
    "arr = np.array(arr, dtype = int)\n",
    "print(np.count_nonzero(arr))\n",
    "# print (np.where(arr == 0))\n",
    "print(int(arr.size) - np.count_nonzero(arr))"
   ]
  },
  {
   "cell_type": "code",
   "execution_count": 102,
   "metadata": {},
   "outputs": [
    {
     "name": "stdout",
     "output_type": "stream",
     "text": [
      "5\n",
      "[5 4 3 2 1 0]\n"
     ]
    }
   ],
   "source": [
    "# 9\n",
    "import numpy as np\n",
    "n=int(input())\n",
    "print(np.arange(n, -1, -1))"
   ]
  },
  {
   "cell_type": "code",
   "execution_count": 119,
   "metadata": {},
   "outputs": [
    {
     "name": "stdout",
     "output_type": "stream",
     "text": [
      "4 5\n",
      "min: 0.015\n",
      "max: 0.946\n",
      "average: 0.502\n",
      "disp: 0.276\n"
     ]
    }
   ],
   "source": [
    "# 10\n",
    "import numpy as np\n",
    "n, m = (int(i) for i in input().split(\" \"))\n",
    "arr = np.random.random((n, m))\n",
    "print(\"min: {}\".format(round(np.amin(arr), 3)))\n",
    "print(\"max: {}\".format(round(np.amax(arr), 3)))\n",
    "print(\"average: {}\".format(round(np.mean(arr), 3)))\n",
    "print(\"disp: {}\".format(round(np.std(arr), 3)))"
   ]
  },
  {
   "cell_type": "code",
   "execution_count": 21,
   "metadata": {},
   "outputs": [
    {
     "name": "stdout",
     "output_type": "stream",
     "text": [
      "5\n",
      "[[0 0 0 0 0 0]\n",
      " [0 1 1 1 1 0]\n",
      " [0 1 1 1 1 0]\n",
      " [0 1 1 1 1 0]\n",
      " [0 1 1 1 1 0]\n",
      " [0 0 0 0 0 0]]\n"
     ]
    }
   ],
   "source": [
    "# 11\n",
    "import numpy as np\n",
    "n = int(input())\n",
    "arr = np.zeros((n+1,n+1), dtype=int)\n",
    "arr[1:-1,1:-1] = 1\n",
    "print(arr)"
   ]
  },
  {
   "cell_type": "code",
   "execution_count": 47,
   "metadata": {},
   "outputs": [
    {
     "name": "stdout",
     "output_type": "stream",
     "text": [
      "5\n",
      "[[0 0 0 0 0]\n",
      " [0 1 1 1 0]\n",
      " [0 1 1 1 0]\n",
      " [0 1 1 1 0]\n",
      " [0 0 0 0 0]]\n"
     ]
    }
   ],
   "source": [
    "# 12\n",
    "import numpy as np\n",
    "n=int(input())\n",
    "arr = np.ones((n,n), dtype=int)\n",
    "arr[0::n-1]=0\n",
    "arr[::, 0::n-1]=0\n",
    "print(arr)"
   ]
  },
  {
   "cell_type": "code",
   "execution_count": 26,
   "metadata": {},
   "outputs": [
    {
     "name": "stdout",
     "output_type": "stream",
     "text": [
      "(3, 1, 3)\n"
     ]
    }
   ],
   "source": [
    "# 13\n",
    "n = 100\n",
    "print(np.unravel_index(n-1, (4,5,6)))"
   ]
  },
  {
   "cell_type": "code",
   "execution_count": 45,
   "metadata": {},
   "outputs": [
    {
     "name": "stdout",
     "output_type": "stream",
     "text": [
      "[[0 1 0 1 0 1 0 1]\n",
      " [1 0 1 0 1 0 1 0]\n",
      " [0 1 0 1 0 1 0 1]\n",
      " [1 0 1 0 1 0 1 0]\n",
      " [0 1 0 1 0 1 0 1]\n",
      " [1 0 1 0 1 0 1 0]\n",
      " [0 1 0 1 0 1 0 1]\n",
      " [1 0 1 0 1 0 1 0]]\n"
     ]
    }
   ],
   "source": [
    "# 15\n",
    "import numpy as np\n",
    "arr = np.tile([[0, 1], [1, 0]], (4,4))\n",
    "print(arr)"
   ]
  },
  {
   "cell_type": "code",
   "execution_count": 58,
   "metadata": {},
   "outputs": [
    {
     "name": "stdout",
     "output_type": "stream",
     "text": [
      "10\n",
      "7.5\n",
      "[ 0  0 -9 -1  0  7  7 -9  5 -2  0]\n"
     ]
    }
   ],
   "source": [
    "# 18\n",
    "import numpy as np\n",
    "n = int(input())\n",
    "arr = np.random.randint(0, n, 11)\n",
    "arr = np.where(arr<n/2,-arr,arr)\n",
    "print(3*n/4)\n",
    "arr = np.where(arr>(3*n/4),-arr,arr)\n",
    "print(arr)"
   ]
  },
  {
   "cell_type": "code",
   "execution_count": 65,
   "metadata": {},
   "outputs": [
    {
     "name": "stdout",
     "output_type": "stream",
     "text": [
      "30\n",
      "[44 81 17  2 23 98 93 81 59 44 75 54 61 12 90 72 52 30 36 72 22  1 59 88\n",
      " 39 43 59 92 72 60]\n",
      "24\n"
     ]
    }
   ],
   "source": [
    "# 19\n",
    "import numpy as np\n",
    "n = int(input())\n",
    "arr = np.random.randint(0, 99, n)\n",
    "print(arr)\n",
    "print(np.unique(arr).size)"
   ]
  },
  {
   "cell_type": "code",
   "execution_count": 120,
   "metadata": {},
   "outputs": [
    {
     "name": "stdout",
     "output_type": "stream",
     "text": [
      "5\n",
      "created vector: [0.305, 0.98, 0.439, 0.413, 0.266]\n",
      "changed vector: [0.305 0.    0.439 0.413 0.266]\n"
     ]
    }
   ],
   "source": [
    "# 21\n",
    "import numpy as np\n",
    "n = int(input())\n",
    "array = [round(i, 3) for i in np.random.random(n)]\n",
    "print(\"created vector: {}\".format(array))\n",
    "print(\"changed vector: {}\".format(np.where(array==np.amax(array), 0, array)))"
   ]
  },
  {
   "cell_type": "code",
   "execution_count": null,
   "metadata": {},
   "outputs": [],
   "source": []
  },
  {
   "cell_type": "code",
   "execution_count": 124,
   "metadata": {},
   "outputs": [
    {
     "name": "stdout",
     "output_type": "stream",
     "text": [
      "[[ 1  3  5  7 12]\n",
      " [ 3  5  7  1  0]\n",
      " [ 5  7  1  3  4]\n",
      " [ 7  1  3  5 16]]\n",
      "[[1 3 5 7]\n",
      " [3 5 7 1]\n",
      " [5 7 1 3]\n",
      " [7 1 3 5]]\n",
      "[[12  3  5  7]\n",
      " [ 0  5  7  1]\n",
      " [ 4  7  1  3]\n",
      " [16  1  3  5]]\n",
      "[[ 1 12  5  7]\n",
      " [ 3  0  7  1]\n",
      " [ 5  4  1  3]\n",
      " [ 7 16  3  5]]\n",
      "[[ 1  3 12  7]\n",
      " [ 3  5  0  1]\n",
      " [ 5  7  4  3]\n",
      " [ 7  1 16  5]]\n",
      "[[ 1  3  5 12]\n",
      " [ 3  5  7  0]\n",
      " [ 5  7  1  4]\n",
      " [ 7  1  3 16]]\n",
      "x1 = 1.0000000000000009\n",
      "x2 = -1.0000000000000009\n",
      "x3 = -7.853566282149544e-17\n",
      "x4 = 2.0\n",
      "\n",
      "matrix mult: \n",
      "[ 1.20000000e+01 -2.22044605e-15  4.00000000e+00  1.60000000e+01]\n",
      "numpy.lanalg.solve(): \n",
      "[ 1.00000000e+00 -1.00000000e+00 -5.24271984e-17  2.00000000e+00]\n",
      "[12.  0.  4. 16.]\n"
     ]
    }
   ],
   "source": [
    "import numpy as np\n",
    "system = np.array([[1, 3, 5, 7, 12],[3, 5, 7, 1, 0],[5, 7, 1, 3, 4],[7, 1, 3, 5, 16]])\n",
    "a1, a2, a3, a4, b = np.hsplit(system, [1, 2, 3, 4])\n",
    "\n",
    "delta = np.concatenate([a1, a2, a3, a4], axis = 1)\n",
    "delta1 = np.concatenate([b, a2, a3, a4], axis = 1)\n",
    "delta2 = np.concatenate([a1, b, a3, a4], axis = 1)\n",
    "delta3 = np.concatenate([a1, a2, b, a4], axis = 1)\n",
    "delta4 = np.concatenate([a1, a2, a3, b], axis = 1)\n",
    "print(system)\n",
    "print(delta)\n",
    "print(delta1)\n",
    "print(delta2)\n",
    "print(delta3)\n",
    "print(delta4)\n",
    "\n",
    "x1 = np.linalg.det(delta1) / np.linalg.det(delta)\n",
    "x2 = np.linalg.det(delta2) / np.linalg.det(delta)\n",
    "x3 = np.linalg.det(delta3) / np.linalg.det(delta)\n",
    "x4 = np.linalg.det(delta4) / np.linalg.det(delta)\n",
    "\n",
    "print(\"x1 = {}\\nx2 = {}\\nx3 = {}\\nx4 = {}\\n\".format(x1, x2, x3, x4))\n",
    "print(\"matrix mult: \")\n",
    "print(system[::, :4:].dot([x1, x2, x3, x4]))\n",
    "\n",
    "print(\"numpy.lanalg.solve(): \")\n",
    "print(np.linalg.solve(system[::, :4:], system[::, 4]))\n",
    "print(system[::, :4:].dot(np.linalg.solve(system[::, :4:], system[::, 4])))"
   ]
  },
  {
   "cell_type": "code",
   "execution_count": 133,
   "metadata": {},
   "outputs": [
    {
     "name": "stdout",
     "output_type": "stream",
     "text": [
      "[[ 5  2  0]\n",
      " [10  4  1]\n",
      " [ 7  3  2]]\n",
      "\n",
      "[[ 3  6 -1]\n",
      " [-1 -2  0]\n",
      " [ 2  1  3]]\n",
      "\n",
      "(A-B²)(2A+B)\n",
      "\n",
      "\n",
      "A-B²\n",
      "\n",
      "[[ 5  2  0]\n",
      " [10  4  1]\n",
      " [ 7  3  2]]\n",
      " - \n",
      "[[ 1  5 -6]\n",
      " [-1 -2  1]\n",
      " [11 13  7]]\n",
      " = \n",
      "[[  4  -3   6]\n",
      " [ 11   6   0]\n",
      " [ -4 -10  -5]]\n",
      "\n",
      "2A+B\n",
      "\n",
      "[[10  4  0]\n",
      " [20  8  2]\n",
      " [14  6  4]]\n",
      " + \n",
      "[[ 3  6 -1]\n",
      " [-1 -2  0]\n",
      " [ 2  1  3]]\n",
      " = \n",
      "[[13 10 -1]\n",
      " [19  6  2]\n",
      " [16  7  7]]\n",
      "\n",
      "(A-B²)(2A+B)\n",
      "\n",
      "[[  4  -3   6]\n",
      " [ 11   6   0]\n",
      " [ -4 -10  -5]]\n",
      "-\n",
      "[[13 10 -1]\n",
      " [19  6  2]\n",
      " [16  7  7]]\n",
      "=\n",
      "[[  91   64   32]\n",
      " [ 257  146    1]\n",
      " [-322 -135  -51]]\n"
     ]
    }
   ],
   "source": [
    "import numpy as np\n",
    "A = np.array([[5,2,0], [10,4,1], [7,3,2]])\n",
    "B = np.array([[3,6,-1], [-1,-2,0], [2,1,3]])\n",
    "\n",
    "print(A)\n",
    "print()\n",
    "print(B)\n",
    "print()\n",
    "print(\"(A-B²)(2A+B)\\n\")\n",
    "\n",
    "print(\"\\nA-B²\\n\")\n",
    "print(A, end=\"\\n - \\n\")\n",
    "print(B.dot(B), end = \"\\n = \\n\")\n",
    "print(A - B.dot(B))\n",
    "\n",
    "print(\"\\n2A+B\\n\")\n",
    "print(2*A, end=\"\\n + \\n\")\n",
    "print(B, end = \"\\n = \\n\")\n",
    "print(2*A + B)\n",
    "\n",
    "print(\"\\n(A-B²)(2A+B)\\n\")\n",
    "print(A - B.dot(B), end = \"\\n-\\n\")\n",
    "print(2*A+B, end = \"\\n=\\n\")\n",
    "print((A - B.dot(B)).dot(2*A + B))"
   ]
  },
  {
   "cell_type": "code",
   "execution_count": 134,
   "metadata": {},
   "outputs": [
    {
     "name": "stdout",
     "output_type": "stream",
     "text": [
      "А\n",
      "[[ 2  3  1]\n",
      " [ 4 -1  0]\n",
      " [ 0  1  2]]\n",
      "В\n",
      "[[9 8 7]\n",
      " [2 7 3]\n",
      " [4 3 5]]\n",
      "inv(A) * B = \n",
      "[[ 0.375    0.1875  -0.4375 ]\n",
      " [ 1.0625  -0.96875 -0.90625]\n",
      " [-0.4375   0.28125  0.84375]]\n",
      "matrix mult: \n",
      "[[ 1.5   0.5  -0.5 ]\n",
      " [-1.75  3.25 -0.75]\n",
      " [ 0.25 -0.75  1.25]]\n",
      "numpy.linalg.solve(): \n",
      "[[9. 8. 7.]\n",
      " [2. 7. 3.]\n",
      " [4. 3. 5.]]\n"
     ]
    }
   ],
   "source": [
    "import numpy as np\n",
    "A = np.array([[2,3,1],[4,-1,0],[0,1,2]])\n",
    "B = np.array([[9,8,7],[2,7,3],[4,3,5]])\n",
    "\n",
    "print(\"А\")\n",
    "print(A)\n",
    "print(\"В\")\n",
    "print(B)\n",
    "print(\"inv(A) * B = \")\n",
    "result = A.dot(np.linalg.inv(B))\n",
    "print(result)\n",
    "print(\"matrix mult: \")\n",
    "print(result.dot(A))\n",
    "print(\"numpy.linalg.solve(): \")\n",
    "print(np.linalg.solve(result, A))"
   ]
  },
  {
   "cell_type": "code",
   "execution_count": null,
   "metadata": {},
   "outputs": [],
   "source": []
  }
 ],
 "metadata": {
  "kernelspec": {
   "display_name": "Python 3",
   "language": "python",
   "name": "python3"
  },
  "language_info": {
   "codemirror_mode": {
    "name": "ipython",
    "version": 3
   },
   "file_extension": ".py",
   "mimetype": "text/x-python",
   "name": "python",
   "nbconvert_exporter": "python",
   "pygments_lexer": "ipython3",
   "version": "3.8.3"
  }
 },
 "nbformat": 4,
 "nbformat_minor": 4
}
